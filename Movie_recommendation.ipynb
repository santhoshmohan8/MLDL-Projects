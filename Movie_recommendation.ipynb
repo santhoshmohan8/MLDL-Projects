{
  "nbformat": 4,
  "nbformat_minor": 0,
  "metadata": {
    "colab": {
      "provenance": [],
      "authorship_tag": "ABX9TyNEnUZrY0TYk7wGJ1R+BQVK",
      "include_colab_link": true
    },
    "kernelspec": {
      "name": "python3",
      "display_name": "Python 3"
    },
    "language_info": {
      "name": "python"
    }
  },
  "cells": [
    {
      "cell_type": "markdown",
      "metadata": {
        "id": "view-in-github",
        "colab_type": "text"
      },
      "source": [
        "<a href=\"https://colab.research.google.com/github/santhoshmohan8/RecommendationEngine/blob/main/Movie_recommendation.ipynb\" target=\"_parent\"><img src=\"https://colab.research.google.com/assets/colab-badge.svg\" alt=\"Open In Colab\"/></a>"
      ]
    },
    {
      "cell_type": "markdown",
      "source": [
        "# Movie Recommendation engine\n",
        "Popularity based movie recommendation"
      ],
      "metadata": {
        "id": "AHQLBAViI4cP"
      }
    },
    {
      "cell_type": "code",
      "source": [
        "from google.colab import data_table\n",
        "from vega_datasets import data\n",
        "data_table.enable_dataframe_formatter()\n",
        "\n",
        "import pandas as pd\n",
        "import numpy as np\n",
        "import difflib\n",
        "\n",
        "from sklearn.feature_extraction.text import CountVectorizer\n",
        "from sklearn.feature_extraction.text import TfidfVectorizer\n"
      ],
      "metadata": {
        "id": "H2sO4j7Kymh2"
      },
      "execution_count": null,
      "outputs": []
    },
    {
      "cell_type": "markdown",
      "source": [
        "Import movies dataset for movie recommendation\n",
        "\n",
        "Selecting only relevant features for our exercise. Genre, keywords, tagline, cast, director"
      ],
      "metadata": {
        "id": "QYrRUjI3wjdE"
      }
    },
    {
      "cell_type": "code",
      "source": [
        "movies = pd.read_csv(\"movies.csv\") # Read movies dataset\n",
        "movies.head()\n",
        "movies.shape\n",
        "\n",
        "# Selecting only relevant features for our model\n",
        "select_features = ['genres','keywords','tagline','cast','director']\n",
        "\n",
        "# check if there are any NaN\n",
        "movies.isna().sum()\n",
        "\n",
        "# We found some NaN, so filling with empty string\n",
        "for feature in select_features:\n",
        "  movies[feature] = movies[feature].fillna('')\n"
      ],
      "metadata": {
        "id": "EUMK_MjoJb_D"
      },
      "execution_count": null,
      "outputs": []
    },
    {
      "cell_type": "markdown",
      "source": [
        "Vectorizing features.\n",
        "\n",
        "Tfidfvectorizer is used to convert string features to vectorized feature\n",
        "\n",
        "\n",
        "\n",
        "> *TF = no of times word(i) occurs in document(j) / Total no of words in document(j))*\n",
        "\n",
        "\n",
        "\n",
        "> *IDF = log (Total no of documents / no of documents that contains the word(i))*\n",
        "\n"
      ],
      "metadata": {
        "id": "vOTJAC55KAL4"
      }
    },
    {
      "cell_type": "code",
      "source": [
        "combine_feature = movies['genres']+''+movies['keywords']+''+movies['tagline']+''+movies['cast']+''+movies['director']\n",
        "vector = TfidfVectorizer()\n",
        "feature_vectors = vector.fit_transform(combine_feature)\n",
        "feature_vectors.shape"
      ],
      "metadata": {
        "colab": {
          "base_uri": "https://localhost:8080/"
        },
        "id": "VwTPcIUbKeRC",
        "outputId": "1bfee256-49c0-4f8e-9940-d2d7d7e44cb2"
      },
      "execution_count": null,
      "outputs": [
        {
          "output_type": "execute_result",
          "data": {
            "text/plain": [
              "(4803, 27580)"
            ]
          },
          "metadata": {},
          "execution_count": 49
        }
      ]
    },
    {
      "cell_type": "markdown",
      "source": [
        "Using cosine similarity for distance calculation"
      ],
      "metadata": {
        "id": "vmhGV7ELKhHv"
      }
    },
    {
      "cell_type": "code",
      "source": [
        "from sklearn.metrics.pairwise import cosine_similarity\n",
        "coef = cosine_similarity(feature_vectors)\n",
        "print(pd.DataFrame(coef))\n"
      ],
      "metadata": {
        "colab": {
          "base_uri": "https://localhost:8080/"
        },
        "id": "bZU-H6gRSqMi",
        "outputId": "f85e8255-9fc6-427e-d98d-56db26c32959"
      },
      "execution_count": null,
      "outputs": [
        {
          "output_type": "stream",
          "name": "stdout",
          "text": [
            "          0         1         2         3         4         5         6     \\\n",
            "0     1.000000  0.068653  0.014922  0.006768  0.095074  0.028425  0.008543   \n",
            "1     0.068653  1.000000  0.027991  0.000000  0.027865  0.051419  0.014938   \n",
            "2     0.014922  0.027991  1.000000  0.031043  0.042742  0.021856  0.008808   \n",
            "3     0.006768  0.000000  0.031043  1.000000  0.006632  0.038466  0.000000   \n",
            "4     0.095074  0.027865  0.042742  0.006632  1.000000  0.073816  0.008372   \n",
            "...        ...       ...       ...       ...       ...       ...       ...   \n",
            "4798  0.004522  0.000000  0.004662  0.022020  0.004432  0.004646  0.000000   \n",
            "4799  0.011439  0.024283  0.000000  0.000000  0.000000  0.006722  0.000000   \n",
            "4800  0.000000  0.012431  0.000000  0.005113  0.000000  0.014608  0.000000   \n",
            "4801  0.000000  0.000000  0.000000  0.000000  0.025858  0.000000  0.022062   \n",
            "4802  0.000000  0.000000  0.000000  0.000000  0.000000  0.000000  0.000000   \n",
            "\n",
            "          7         8         9     ...      4793  4794      4795      4796  \\\n",
            "0     0.024557  0.031423  0.014609  ...  0.000000   0.0  0.005361  0.008324   \n",
            "1     0.014598  0.042091  0.014645  ...  0.022748   0.0  0.014061  0.000000   \n",
            "2     0.075657  0.009024  0.043627  ...  0.046587   0.0  0.000000  0.000000   \n",
            "3     0.006809  0.034327  0.049489  ...  0.032650   0.0  0.024547  0.029844   \n",
            "4     0.034356  0.008578  0.024640  ...  0.000000   0.0  0.000000  0.034673   \n",
            "...        ...       ...       ...  ...       ...   ...       ...       ...   \n",
            "4798  0.026889  0.000000  0.004564  ...  0.000000   0.0  0.014248  0.000000   \n",
            "4799  0.000000  0.006901  0.000000  ...  0.000000   0.0  0.004644  0.000000   \n",
            "4800  0.000000  0.000000  0.000000  ...  0.000000   0.0  0.000000  0.003910   \n",
            "4801  0.021561  0.000000  0.000000  ...  0.000000   0.0  0.000000  0.000000   \n",
            "4802  0.000000  0.000000  0.000000  ...  0.000000   0.0  0.000000  0.000000   \n",
            "\n",
            "      4797      4798      4799      4800      4801  4802  \n",
            "0      0.0  0.004522  0.011439  0.000000  0.000000   0.0  \n",
            "1      0.0  0.000000  0.024283  0.012431  0.000000   0.0  \n",
            "2      0.0  0.004662  0.000000  0.000000  0.000000   0.0  \n",
            "3      0.0  0.022020  0.000000  0.005113  0.000000   0.0  \n",
            "4      0.0  0.004432  0.000000  0.000000  0.025858   0.0  \n",
            "...    ...       ...       ...       ...       ...   ...  \n",
            "4798   0.0  1.000000  0.000000  0.000000  0.000000   0.0  \n",
            "4799   0.0  0.000000  1.000000  0.004822  0.000000   0.0  \n",
            "4800   0.0  0.000000  0.004822  1.000000  0.000000   0.0  \n",
            "4801   0.0  0.000000  0.000000  0.000000  1.000000   0.0  \n",
            "4802   0.0  0.000000  0.000000  0.000000  0.000000   1.0  \n",
            "\n",
            "[4803 rows x 4803 columns]\n"
          ]
        }
      ]
    },
    {
      "cell_type": "markdown",
      "source": [
        "Search for a movie to watch now.......🍿 🎥 ..........\n",
        "\n",
        "1.   You will get a close match for what you had searched\n",
        "2.   Top 10 recommendations based on Genre, Cast, Director, Keywords & tagline"
      ],
      "metadata": {
        "id": "fl6uSvotSsA0"
      }
    },
    {
      "cell_type": "code",
      "execution_count": null,
      "metadata": {
        "colab": {
          "base_uri": "https://localhost:8080/"
        },
        "id": "vvcoIWUcyh9r",
        "outputId": "bcea7b7d-1406-4086-d37e-ef4f277f1c2d"
      },
      "outputs": [
        {
          "output_type": "stream",
          "name": "stdout",
          "text": [
            "Search for a movie here..... \n",
            "Jaws\n",
            "                                   title\n",
            "2809                                Jaws\n",
            "2094                              Jaws 2\n",
            "1510                                1941\n",
            "3526                           The Sting\n",
            "3779                              Zipper\n",
            "2087  Close Encounters of the Third Kind\n",
            "2860                            Das Boot\n",
            "2057                            Sorcerer\n",
            "1486                        The Punisher\n",
            "1807                             Flipper\n",
            "3616                    Robin and Marian\n"
          ]
        }
      ],
      "source": [
        "ip = input(\"Search for a movie here..... \\n\")\n",
        "all_movies = movies['title'].tolist()\n",
        "close_match_movies = difflib.get_close_matches(ip,all_movies)\n",
        "get_index = movies[movies.title == close_match_movies[0]].index.values[0]\n",
        "\n",
        "reco_movies = pd.DataFrame(coef[get_index]).sort_values(0,ascending=False).reset_index()[:11]\n",
        "reco_movies = reco_movies['index'].tolist()\n",
        "\n",
        "final_list = pd.DataFrame()\n",
        "for mov in reco_movies:\n",
        "    final_list = pd.concat([final_list,movies.loc[movies['index'] == mov,['title']]])\n",
        "#print(reco_movies)\n",
        "print(final_list)\n"
      ]
    }
  ]
}